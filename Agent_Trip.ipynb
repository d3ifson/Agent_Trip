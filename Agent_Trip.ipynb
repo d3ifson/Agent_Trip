{
  "nbformat": 4,
  "nbformat_minor": 0,
  "metadata": {
    "colab": {
      "provenance": [],
      "authorship_tag": "ABX9TyOi5bgQVXm1BpGhoVYcObdg",
      "include_colab_link": true
    },
    "kernelspec": {
      "name": "python3",
      "display_name": "Python 3"
    },
    "language_info": {
      "name": "python"
    }
  },
  "cells": [
    {
      "cell_type": "markdown",
      "metadata": {
        "id": "view-in-github",
        "colab_type": "text"
      },
      "source": [
        "<a href=\"https://colab.research.google.com/github/d3ifson/Agent_Trip/blob/main/Agent_Trip.ipynb\" target=\"_parent\"><img src=\"https://colab.research.google.com/assets/colab-badge.svg\" alt=\"Open In Colab\"/></a>"
      ]
    },
    {
      "cell_type": "code",
      "execution_count": null,
      "metadata": {
        "id": "_Dom2fwnN0YF"
      },
      "outputs": [],
      "source": [
        "!pip install -U -q google-generativeai\n",
        "\n",
        "import pathlib\n",
        "import textwrap\n",
        "import google.generativeai as genai\n",
        "from IPython.display import display\n",
        "from IPython.display import Markdown\n",
        "\n",
        "def to_markdown(text):\n",
        "  text = text.replace('•', '  *')\n",
        "  return Markdown(textwrap.indent(text, '> ', predicate=lambda _: True))\n",
        "\n",
        "# Used to securely store your API key\n",
        "from google.colab import userdata\n",
        "\n",
        "# Or use `os.getenv('GOOGLE_API_KEY')` to fetch an environment variable.\n",
        "GOOGLE_API_KEY=userdata.get('GOOGLE_API_KEY')\n",
        "\n",
        "genai.configure(api_key=GOOGLE_API_KEY)\n",
        "\n",
        "generation_config = {\n",
        "    \"candidate_count\": 1,\n",
        "    \"temperature\": 0.5,\n",
        "}\n",
        "\n",
        "safety_setting = {\n",
        "    \"HARASSMENT\": \"BLOCK_NONE\",\n",
        "    \"HATE\": \"BLOCK_NONE\",\n",
        "    \"SEXUAL\": \"BLOCK_NONE\",\n",
        "    \"DANGEROUS\": \"BLOCK_NONE\",\n",
        "}\n",
        "\n",
        "model = genai.GenerativeModel(model_name='gemini-1.0-pro',\n",
        "                              generation_config=generation_config,\n",
        "                              safety_settings=safety_setting)\n",
        "\n",
        "chat = model.start_chat(history=[])\n",
        "\n",
        "# Função para coletar preferências do usuário e gerar roteiro\n",
        "def generate_itinerary():\n",
        "    destination = input(\"Digite o destino da viagem: \")\n",
        "    trip_type = input(\"Digite o tipo de viagem (ex: lazer, trabalho, aventura, relaxar) \")\n",
        "    accommodation = input(\"Digite a preferência de acomodação (ex: hotel, hostel, airbnb, etc.): \")\n",
        "    duration_days = input(\"Digite a duração da viagem em dias: \")\n",
        "\n",
        "    # Montando o prompt para gerar o roteiro\n",
        "    prompt = f\"Crie um roteiro de viagem para {destination} focado em {trip_type}, \" \\\n",
        "             f\"com acomodação em {accommodation} e duração de {duration_days} dias.\"\n",
        "\n",
        "    response = chat.send_message(prompt)\n",
        "    print(\"Roteiro de Viagem:\")\n",
        "    print(response.text, \"\\n\")\n",
        "\n",
        "# Loop principal para o usuário decidir a próxima ação\n",
        "while True:\n",
        "    generate_itinerary()\n",
        "\n",
        "    next_action = input(\"Deseja planejar outro destino? (sim/não): \").strip().lower()\n",
        "    if next_action == \"não\" or next_action == \"nao\":\n",
        "        print(\"Finalizando o planejamento de viagens. Até a próxima!\")\n",
        "        break\n",
        "    elif next_action == \"sim\":\n",
        "        continue\n",
        "    else:\n",
        "        print(\"Resposta inválida. Finalizando o planejamento de viagens.\")\n",
        "        break"
      ]
    }
  ]
}